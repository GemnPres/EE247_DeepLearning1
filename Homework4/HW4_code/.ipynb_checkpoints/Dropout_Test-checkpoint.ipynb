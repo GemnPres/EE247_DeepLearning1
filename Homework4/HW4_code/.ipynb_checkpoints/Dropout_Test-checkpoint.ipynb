{
 "cells": [
  {
   "cell_type": "markdown",
   "metadata": {},
   "source": [
    "# Dropout\n",
    "\n",
    "In this notebook, you will implement dropout.  Then we will ask you to train a network with batchnorm and dropout, and acheive over 55% accuracy on CIFAR-10.\n",
    "\n",
    "CS231n has built a solid API for building these modular frameworks and training them, and we will use their very well implemented framework as opposed to \"reinventing the wheel.\"  This includes using their Solver, various utility functions, and their layer structure.  This also includes nndl.fc_net, nndl.layers, and nndl.layer_utils.  As in prior assignments, we thank Serena Yeung & Justin Johnson for permission to use code written for the CS 231n class (cs231n.stanford.edu).  "
   ]
  },
  {
   "cell_type": "code",
   "execution_count": 1,
   "metadata": {},
   "outputs": [],
   "source": [
    "## Import and setups\n",
    "\n",
    "import time\n",
    "import numpy as np\n",
    "import matplotlib.pyplot as plt\n",
    "from nndl.fc_net import *\n",
    "from nndl.layers import *\n",
    "from utils.data_utils import get_CIFAR10_data\n",
    "from utils.gradient_check import eval_numerical_gradient, eval_numerical_gradient_array\n",
    "from utils.solver import Solver\n",
    "\n",
    "%matplotlib inline\n",
    "plt.rcParams['figure.figsize'] = (10.0, 8.0) # set default size of plots\n",
    "plt.rcParams['image.interpolation'] = 'nearest'\n",
    "plt.rcParams['image.cmap'] = 'gray'\n",
    "\n",
    "# for auto-reloading external modules\n",
    "# see http://stackoverflow.com/questions/1907993/autoreload-of-modules-in-ipython\n",
    "%load_ext autoreload\n",
    "%autoreload 2\n",
    "\n",
    "def rel_error(x, y):\n",
    "  \"\"\" returns relative error \"\"\"\n",
    "  return np.max(np.abs(x - y) / (np.maximum(1e-8, np.abs(x) + np.abs(y))))"
   ]
  },
  {
   "cell_type": "code",
   "execution_count": 2,
   "metadata": {},
   "outputs": [
    {
     "name": "stdout",
     "output_type": "stream",
     "text": [
      "X_train: (49000, 3, 32, 32) \n",
      "y_train: (49000,) \n",
      "X_val: (1000, 3, 32, 32) \n",
      "y_val: (1000,) \n",
      "X_test: (1000, 3, 32, 32) \n",
      "y_test: (1000,) \n"
     ]
    }
   ],
   "source": [
    "# Load the (preprocessed) CIFAR10 data.\n",
    "\n",
    "data = get_CIFAR10_data()\n",
    "for k in data.keys():\n",
    "  print('{}: {} '.format(k, data[k].shape))"
   ]
  },
  {
   "cell_type": "markdown",
   "metadata": {},
   "source": [
    "## Dropout forward pass\n",
    "\n",
    "Implement the training and test time dropout forward pass, `dropout_forward`, in `nndl/layers.py`. After that, test your implementation by running the following cell."
   ]
  },
  {
   "cell_type": "code",
   "execution_count": 3,
   "metadata": {},
   "outputs": [
    {
     "name": "stdout",
     "output_type": "stream",
     "text": [
      "Running tests with p =  0.3\n",
      "Mean of input:  10.001206193822478\n",
      "Mean of train-time output:  10.030552754647314\n",
      "Mean of test-time output:  10.001206193822478\n",
      "Fraction of train-time output set to zero:  0.69906\n",
      "Fraction of test-time output set to zero:  0.0\n",
      "Running tests with p =  0.6\n",
      "Mean of input:  10.001206193822478\n",
      "Mean of train-time output:  10.004770042594272\n",
      "Mean of test-time output:  10.001206193822478\n",
      "Fraction of train-time output set to zero:  0.39982\n",
      "Fraction of test-time output set to zero:  0.0\n",
      "Running tests with p =  0.75\n",
      "Mean of input:  10.001206193822478\n",
      "Mean of train-time output:  10.008199508745284\n",
      "Mean of test-time output:  10.001206193822478\n",
      "Fraction of train-time output set to zero:  0.249484\n",
      "Fraction of test-time output set to zero:  0.0\n"
     ]
    }
   ],
   "source": [
    "x = np.random.randn(500, 500) + 10\n",
    "\n",
    "for p in [0.3, 0.6, 0.75]:\n",
    "  out, _ = dropout_forward(x, {'mode': 'train', 'p': p})\n",
    "  out_test, _ = dropout_forward(x, {'mode': 'test', 'p': p})\n",
    "\n",
    "  print('Running tests with p = ', p)\n",
    "  print('Mean of input: ', x.mean())\n",
    "  print('Mean of train-time output: ', out.mean())\n",
    "  print('Mean of test-time output: ', out_test.mean())\n",
    "  print('Fraction of train-time output set to zero: ', (out == 0).mean())\n",
    "  print('Fraction of test-time output set to zero: ', (out_test == 0).mean())"
   ]
  },
  {
   "cell_type": "markdown",
   "metadata": {},
   "source": [
    "## Dropout backward pass\n",
    "\n",
    "Implement the backward pass, `dropout_backward`, in `nndl/layers.py`.  After that, test your gradients by running the following cell:"
   ]
  },
  {
   "cell_type": "code",
   "execution_count": 4,
   "metadata": {},
   "outputs": [
    {
     "name": "stdout",
     "output_type": "stream",
     "text": [
      "dx relative error:  5.445607819097802e-11\n"
     ]
    }
   ],
   "source": [
    "x = np.random.randn(10, 10) + 10\n",
    "dout = np.random.randn(*x.shape)\n",
    "\n",
    "dropout_param = {'mode': 'train', 'p': 0.8, 'seed': 123}\n",
    "out, cache = dropout_forward(x, dropout_param)\n",
    "dx = dropout_backward(dout, cache)\n",
    "dx_num = eval_numerical_gradient_array(lambda xx: dropout_forward(xx, dropout_param)[0], x, dout)\n",
    "\n",
    "print('dx relative error: ', rel_error(dx, dx_num))"
   ]
  },
  {
   "cell_type": "markdown",
   "metadata": {},
   "source": [
    "## Implement a fully connected neural network with dropout layers\n",
    "\n",
    "Modify the `FullyConnectedNet()` class in `nndl/fc_net.py` to incorporate dropout.  A dropout layer should be incorporated after every ReLU layer.  Concretely, there shouldn't be a dropout at the output layer since there is no ReLU at the output layer. You will need to modify the class in the following areas:\n",
    "\n",
    "(1) In the forward pass, you will need to incorporate a dropout layer after every relu layer.\n",
    "\n",
    "(2) In the backward pass, you will need to incorporate a dropout backward pass layer.\n",
    "\n",
    "Check your implementation by running the following code.  Our W1 gradient relative error is on the order of 1e-6 (the largest of all the relative errors)."
   ]
  },
  {
   "cell_type": "code",
   "execution_count": 5,
   "metadata": {},
   "outputs": [
    {
     "name": "stdout",
     "output_type": "stream",
     "text": [
      "Running check with dropout =  0\n",
      "Initial loss:  2.3051948273987857\n",
      "W1 relative error: 2.5272575344376073e-07\n",
      "W2 relative error: 1.5034484929313676e-05\n",
      "W3 relative error: 2.753446833630168e-07\n",
      "b1 relative error: 2.936957476400148e-06\n",
      "b2 relative error: 5.051339805546953e-08\n",
      "b3 relative error: 1.1740467838205477e-10\n",
      "\n",
      "\n",
      "Running check with dropout =  0.25\n",
      "Initial loss:  2.302393230564104\n",
      "W1 relative error: 3.386975992810743e-07\n",
      "W2 relative error: 2.241789189885794e-07\n",
      "W3 relative error: 1.9653893864322086e-07\n",
      "b1 relative error: 3.684082803289692e-08\n",
      "b2 relative error: 5.465218756779831e-09\n",
      "b3 relative error: 7.539531964666713e-11\n",
      "\n",
      "\n",
      "Running check with dropout =  0.5\n",
      "Initial loss:  2.3013464380943134\n",
      "W1 relative error: 1.2920002811595769e-07\n",
      "W2 relative error: 3.9503910204631417e-07\n",
      "W3 relative error: 4.279464253510945e-07\n",
      "b1 relative error: 6.9916830773784215e-09\n",
      "b2 relative error: 2.8231394334616772e-09\n",
      "b3 relative error: 8.934289674335329e-11\n",
      "\n",
      "\n"
     ]
    }
   ],
   "source": [
    "N, D, H1, H2, C = 2, 15, 20, 30, 10\n",
    "X = np.random.randn(N, D)\n",
    "y = np.random.randint(C, size=(N,))\n",
    "\n",
    "for dropout in [0, 0.25, 0.5]:\n",
    "  print('Running check with dropout = ', dropout)\n",
    "  model = FullyConnectedNet([H1, H2], input_dim=D, num_classes=C,\n",
    "                            weight_scale=5e-2, dtype=np.float64,\n",
    "                            dropout=dropout, seed=123)\n",
    "\n",
    "  loss, grads = model.loss(X, y)\n",
    "  print('Initial loss: ', loss)\n",
    "\n",
    "  for name in sorted(grads):\n",
    "    f = lambda _: model.loss(X, y)[0]\n",
    "    grad_num = eval_numerical_gradient(f, model.params[name], verbose=False, h=1e-5)\n",
    "    print('{} relative error: {}'.format(name, rel_error(grad_num, grads[name])))\n",
    "  print('\\n')"
   ]
  },
  {
   "cell_type": "markdown",
   "metadata": {},
   "source": [
    "## Dropout as a regularizer\n",
    "\n",
    "In class, we claimed that dropout acts as a regularizer by effectively bagging.  To check this, we will train two small networks, one with dropout and one without dropout.  "
   ]
  },
  {
   "cell_type": "code",
   "execution_count": 14,
   "metadata": {},
   "outputs": [
    {
     "name": "stdout",
     "output_type": "stream",
     "text": [
      "(Iteration 1 / 250) loss: 2.300135\n",
      "(Epoch 0 / 50) train acc: 0.132000; val_acc: 0.136000\n",
      "(Epoch 1 / 50) train acc: 0.132000; val_acc: 0.135000\n",
      "(Epoch 2 / 50) train acc: 0.132000; val_acc: 0.137000\n",
      "(Epoch 3 / 50) train acc: 0.132000; val_acc: 0.136000\n",
      "(Epoch 4 / 50) train acc: 0.132000; val_acc: 0.135000\n",
      "(Epoch 5 / 50) train acc: 0.132000; val_acc: 0.135000\n",
      "(Epoch 6 / 50) train acc: 0.130000; val_acc: 0.135000\n",
      "(Epoch 7 / 50) train acc: 0.130000; val_acc: 0.135000\n",
      "(Epoch 8 / 50) train acc: 0.134000; val_acc: 0.136000\n",
      "(Epoch 9 / 50) train acc: 0.136000; val_acc: 0.137000\n",
      "(Epoch 10 / 50) train acc: 0.138000; val_acc: 0.138000\n",
      "(Epoch 11 / 50) train acc: 0.138000; val_acc: 0.138000\n",
      "(Epoch 12 / 50) train acc: 0.138000; val_acc: 0.138000\n",
      "(Epoch 13 / 50) train acc: 0.138000; val_acc: 0.138000\n",
      "(Epoch 14 / 50) train acc: 0.142000; val_acc: 0.138000\n",
      "(Epoch 15 / 50) train acc: 0.144000; val_acc: 0.138000\n",
      "(Epoch 16 / 50) train acc: 0.144000; val_acc: 0.138000\n",
      "(Epoch 17 / 50) train acc: 0.144000; val_acc: 0.139000\n",
      "(Epoch 18 / 50) train acc: 0.146000; val_acc: 0.139000\n",
      "(Epoch 19 / 50) train acc: 0.146000; val_acc: 0.141000\n",
      "(Epoch 20 / 50) train acc: 0.146000; val_acc: 0.140000\n",
      "(Iteration 101 / 250) loss: 2.302328\n",
      "(Epoch 21 / 50) train acc: 0.148000; val_acc: 0.142000\n",
      "(Epoch 22 / 50) train acc: 0.148000; val_acc: 0.142000\n",
      "(Epoch 23 / 50) train acc: 0.148000; val_acc: 0.141000\n",
      "(Epoch 24 / 50) train acc: 0.152000; val_acc: 0.142000\n",
      "(Epoch 25 / 50) train acc: 0.152000; val_acc: 0.143000\n",
      "(Epoch 26 / 50) train acc: 0.152000; val_acc: 0.143000\n",
      "(Epoch 27 / 50) train acc: 0.152000; val_acc: 0.143000\n",
      "(Epoch 28 / 50) train acc: 0.152000; val_acc: 0.144000\n",
      "(Epoch 29 / 50) train acc: 0.152000; val_acc: 0.145000\n",
      "(Epoch 30 / 50) train acc: 0.152000; val_acc: 0.145000\n",
      "(Epoch 31 / 50) train acc: 0.154000; val_acc: 0.144000\n",
      "(Epoch 32 / 50) train acc: 0.158000; val_acc: 0.142000\n",
      "(Epoch 33 / 50) train acc: 0.158000; val_acc: 0.142000\n",
      "(Epoch 34 / 50) train acc: 0.158000; val_acc: 0.143000\n",
      "(Epoch 35 / 50) train acc: 0.158000; val_acc: 0.147000\n",
      "(Epoch 36 / 50) train acc: 0.160000; val_acc: 0.147000\n",
      "(Epoch 37 / 50) train acc: 0.162000; val_acc: 0.148000\n",
      "(Epoch 38 / 50) train acc: 0.162000; val_acc: 0.148000\n",
      "(Epoch 39 / 50) train acc: 0.164000; val_acc: 0.149000\n",
      "(Epoch 40 / 50) train acc: 0.164000; val_acc: 0.151000\n",
      "(Iteration 201 / 250) loss: 2.299211\n",
      "(Epoch 41 / 50) train acc: 0.164000; val_acc: 0.151000\n",
      "(Epoch 42 / 50) train acc: 0.164000; val_acc: 0.152000\n",
      "(Epoch 43 / 50) train acc: 0.164000; val_acc: 0.151000\n",
      "(Epoch 44 / 50) train acc: 0.164000; val_acc: 0.151000\n",
      "(Epoch 45 / 50) train acc: 0.164000; val_acc: 0.151000\n",
      "(Epoch 46 / 50) train acc: 0.164000; val_acc: 0.151000\n",
      "(Epoch 47 / 50) train acc: 0.162000; val_acc: 0.153000\n",
      "(Epoch 48 / 50) train acc: 0.162000; val_acc: 0.154000\n",
      "(Epoch 49 / 50) train acc: 0.164000; val_acc: 0.153000\n",
      "(Epoch 50 / 50) train acc: 0.164000; val_acc: 0.153000\n",
      "(Iteration 1 / 250) loss: 2.302153\n",
      "(Epoch 0 / 50) train acc: 0.078000; val_acc: 0.067000\n",
      "(Epoch 1 / 50) train acc: 0.080000; val_acc: 0.068000\n",
      "(Epoch 2 / 50) train acc: 0.078000; val_acc: 0.071000\n",
      "(Epoch 3 / 50) train acc: 0.078000; val_acc: 0.071000\n",
      "(Epoch 4 / 50) train acc: 0.084000; val_acc: 0.071000\n",
      "(Epoch 5 / 50) train acc: 0.084000; val_acc: 0.071000\n",
      "(Epoch 6 / 50) train acc: 0.084000; val_acc: 0.073000\n",
      "(Epoch 7 / 50) train acc: 0.086000; val_acc: 0.075000\n",
      "(Epoch 8 / 50) train acc: 0.088000; val_acc: 0.077000\n",
      "(Epoch 9 / 50) train acc: 0.090000; val_acc: 0.077000\n",
      "(Epoch 10 / 50) train acc: 0.090000; val_acc: 0.078000\n",
      "(Epoch 11 / 50) train acc: 0.088000; val_acc: 0.077000\n",
      "(Epoch 12 / 50) train acc: 0.092000; val_acc: 0.077000\n",
      "(Epoch 13 / 50) train acc: 0.092000; val_acc: 0.075000\n",
      "(Epoch 14 / 50) train acc: 0.094000; val_acc: 0.076000\n",
      "(Epoch 15 / 50) train acc: 0.096000; val_acc: 0.075000\n",
      "(Epoch 16 / 50) train acc: 0.096000; val_acc: 0.076000\n",
      "(Epoch 17 / 50) train acc: 0.096000; val_acc: 0.075000\n",
      "(Epoch 18 / 50) train acc: 0.098000; val_acc: 0.073000\n",
      "(Epoch 19 / 50) train acc: 0.098000; val_acc: 0.073000\n",
      "(Epoch 20 / 50) train acc: 0.102000; val_acc: 0.074000\n",
      "(Iteration 101 / 250) loss: 2.300673\n",
      "(Epoch 21 / 50) train acc: 0.102000; val_acc: 0.075000\n",
      "(Epoch 22 / 50) train acc: 0.102000; val_acc: 0.075000\n",
      "(Epoch 23 / 50) train acc: 0.102000; val_acc: 0.074000\n",
      "(Epoch 24 / 50) train acc: 0.096000; val_acc: 0.076000\n",
      "(Epoch 25 / 50) train acc: 0.094000; val_acc: 0.078000\n",
      "(Epoch 26 / 50) train acc: 0.094000; val_acc: 0.078000\n",
      "(Epoch 27 / 50) train acc: 0.096000; val_acc: 0.078000\n",
      "(Epoch 28 / 50) train acc: 0.092000; val_acc: 0.079000\n",
      "(Epoch 29 / 50) train acc: 0.096000; val_acc: 0.082000\n",
      "(Epoch 30 / 50) train acc: 0.094000; val_acc: 0.082000\n",
      "(Epoch 31 / 50) train acc: 0.096000; val_acc: 0.084000\n",
      "(Epoch 32 / 50) train acc: 0.094000; val_acc: 0.084000\n",
      "(Epoch 33 / 50) train acc: 0.102000; val_acc: 0.084000\n",
      "(Epoch 34 / 50) train acc: 0.102000; val_acc: 0.084000\n",
      "(Epoch 35 / 50) train acc: 0.100000; val_acc: 0.083000\n",
      "(Epoch 36 / 50) train acc: 0.098000; val_acc: 0.084000\n",
      "(Epoch 37 / 50) train acc: 0.100000; val_acc: 0.086000\n",
      "(Epoch 38 / 50) train acc: 0.106000; val_acc: 0.086000\n",
      "(Epoch 39 / 50) train acc: 0.110000; val_acc: 0.089000\n",
      "(Epoch 40 / 50) train acc: 0.110000; val_acc: 0.093000\n",
      "(Iteration 201 / 250) loss: 2.300117\n",
      "(Epoch 41 / 50) train acc: 0.112000; val_acc: 0.093000\n",
      "(Epoch 42 / 50) train acc: 0.114000; val_acc: 0.093000\n",
      "(Epoch 43 / 50) train acc: 0.114000; val_acc: 0.094000\n",
      "(Epoch 44 / 50) train acc: 0.118000; val_acc: 0.095000\n",
      "(Epoch 45 / 50) train acc: 0.120000; val_acc: 0.094000\n",
      "(Epoch 46 / 50) train acc: 0.120000; val_acc: 0.096000\n",
      "(Epoch 47 / 50) train acc: 0.122000; val_acc: 0.098000\n",
      "(Epoch 48 / 50) train acc: 0.120000; val_acc: 0.100000\n",
      "(Epoch 49 / 50) train acc: 0.126000; val_acc: 0.102000\n",
      "(Epoch 50 / 50) train acc: 0.126000; val_acc: 0.101000\n",
      "(Iteration 1 / 250) loss: 2.301904\n",
      "(Epoch 0 / 50) train acc: 0.128000; val_acc: 0.120000\n",
      "(Epoch 1 / 50) train acc: 0.130000; val_acc: 0.123000\n",
      "(Epoch 2 / 50) train acc: 0.134000; val_acc: 0.122000\n",
      "(Epoch 3 / 50) train acc: 0.134000; val_acc: 0.122000\n",
      "(Epoch 4 / 50) train acc: 0.136000; val_acc: 0.122000\n",
      "(Epoch 5 / 50) train acc: 0.138000; val_acc: 0.120000\n",
      "(Epoch 6 / 50) train acc: 0.140000; val_acc: 0.119000\n",
      "(Epoch 7 / 50) train acc: 0.142000; val_acc: 0.122000\n",
      "(Epoch 8 / 50) train acc: 0.142000; val_acc: 0.122000\n",
      "(Epoch 9 / 50) train acc: 0.144000; val_acc: 0.122000\n",
      "(Epoch 10 / 50) train acc: 0.144000; val_acc: 0.121000\n",
      "(Epoch 11 / 50) train acc: 0.148000; val_acc: 0.123000\n",
      "(Epoch 12 / 50) train acc: 0.148000; val_acc: 0.123000\n",
      "(Epoch 13 / 50) train acc: 0.150000; val_acc: 0.123000\n",
      "(Epoch 14 / 50) train acc: 0.150000; val_acc: 0.127000\n",
      "(Epoch 15 / 50) train acc: 0.148000; val_acc: 0.131000\n",
      "(Epoch 16 / 50) train acc: 0.148000; val_acc: 0.135000\n",
      "(Epoch 17 / 50) train acc: 0.148000; val_acc: 0.135000\n",
      "(Epoch 18 / 50) train acc: 0.146000; val_acc: 0.137000\n",
      "(Epoch 19 / 50) train acc: 0.146000; val_acc: 0.139000\n",
      "(Epoch 20 / 50) train acc: 0.146000; val_acc: 0.139000\n",
      "(Iteration 101 / 250) loss: 2.300122\n",
      "(Epoch 21 / 50) train acc: 0.146000; val_acc: 0.141000\n",
      "(Epoch 22 / 50) train acc: 0.146000; val_acc: 0.143000\n",
      "(Epoch 23 / 50) train acc: 0.148000; val_acc: 0.145000\n",
      "(Epoch 24 / 50) train acc: 0.146000; val_acc: 0.143000\n",
      "(Epoch 25 / 50) train acc: 0.146000; val_acc: 0.146000\n",
      "(Epoch 26 / 50) train acc: 0.146000; val_acc: 0.147000\n",
      "(Epoch 27 / 50) train acc: 0.148000; val_acc: 0.150000\n",
      "(Epoch 28 / 50) train acc: 0.150000; val_acc: 0.147000\n",
      "(Epoch 29 / 50) train acc: 0.152000; val_acc: 0.149000\n",
      "(Epoch 30 / 50) train acc: 0.152000; val_acc: 0.149000\n",
      "(Epoch 31 / 50) train acc: 0.156000; val_acc: 0.149000\n",
      "(Epoch 32 / 50) train acc: 0.154000; val_acc: 0.149000\n",
      "(Epoch 33 / 50) train acc: 0.158000; val_acc: 0.148000\n",
      "(Epoch 34 / 50) train acc: 0.162000; val_acc: 0.152000\n",
      "(Epoch 35 / 50) train acc: 0.162000; val_acc: 0.155000\n",
      "(Epoch 36 / 50) train acc: 0.162000; val_acc: 0.154000\n",
      "(Epoch 37 / 50) train acc: 0.162000; val_acc: 0.154000\n",
      "(Epoch 38 / 50) train acc: 0.162000; val_acc: 0.155000\n",
      "(Epoch 39 / 50) train acc: 0.160000; val_acc: 0.155000\n",
      "(Epoch 40 / 50) train acc: 0.162000; val_acc: 0.153000\n",
      "(Iteration 201 / 250) loss: 2.300696\n",
      "(Epoch 41 / 50) train acc: 0.168000; val_acc: 0.154000\n",
      "(Epoch 42 / 50) train acc: 0.170000; val_acc: 0.153000\n",
      "(Epoch 43 / 50) train acc: 0.172000; val_acc: 0.152000\n",
      "(Epoch 44 / 50) train acc: 0.172000; val_acc: 0.150000\n",
      "(Epoch 45 / 50) train acc: 0.178000; val_acc: 0.150000\n",
      "(Epoch 46 / 50) train acc: 0.176000; val_acc: 0.146000\n",
      "(Epoch 47 / 50) train acc: 0.176000; val_acc: 0.146000\n",
      "(Epoch 48 / 50) train acc: 0.174000; val_acc: 0.144000\n",
      "(Epoch 49 / 50) train acc: 0.174000; val_acc: 0.144000\n",
      "(Epoch 50 / 50) train acc: 0.174000; val_acc: 0.142000\n"
     ]
    }
   ],
   "source": [
    "# Train two identical nets, one with dropout and one without\n",
    "\n",
    "num_train = 500\n",
    "small_data = {\n",
    "  'X_train': data['X_train'][:num_train],\n",
    "  'y_train': data['y_train'][:num_train],\n",
    "  'X_val': data['X_val'],\n",
    "  'y_val': data['y_val'],\n",
    "}\n",
    "\n",
    "solvers = {}\n",
    "dropout_choices = [0, 0.6, 1]\n",
    "for dropout in dropout_choices:\n",
    "  model = FullyConnectedNet([100, 100, 100], dropout=dropout)\n",
    "\n",
    "  solver = Solver(model, small_data,\n",
    "                  num_epochs=50, batch_size=100,\n",
    "                  update_rule='sgd_nesterov_momentum',\n",
    "                  optim_config={\n",
    "                    'learning_rate': 5e-4,\n",
    "                  },\n",
    "                  verbose=True, print_every=100)\n",
    "  solver.train()\n",
    "  solvers[dropout] = solver"
   ]
  },
  {
   "cell_type": "code",
   "execution_count": 15,
   "metadata": {},
   "outputs": [
    {
     "data": {
      "image/png": "[encoded data removed]",
      "text/plain": [
       "<Figure size 1500x1500 with 2 Axes>"
      ]
     },
     "metadata": {},
     "output_type": "display_data"
    }
   ],
   "source": [
    "# Plot train and validation accuracies of the two models\n",
    "\n",
    "train_accs = []\n",
    "val_accs = []\n",
    "for dropout in dropout_choices:\n",
    "  solver = solvers[dropout]\n",
    "  train_accs.append(solver.train_acc_history[-1])\n",
    "  val_accs.append(solver.val_acc_history[-1])\n",
    "\n",
    "plt.subplot(3, 1, 1)\n",
    "for dropout in dropout_choices:\n",
    "  plt.plot(solvers[dropout].train_acc_history, 'o', label='%.2f dropout' % dropout)\n",
    "plt.title('Train accuracy')\n",
    "plt.xlabel('Epoch')\n",
    "plt.ylabel('Accuracy')\n",
    "plt.legend(ncol=2, loc='lower right')\n",
    "  \n",
    "plt.subplot(3, 1, 2)\n",
    "for dropout in dropout_choices:\n",
    "  plt.plot(solvers[dropout].val_acc_history, 'o', label='%.2f dropout' % dropout)\n",
    "plt.title('Val accuracy')\n",
    "plt.xlabel('Epoch')\n",
    "plt.ylabel('Accuracy')\n",
    "plt.legend(ncol=2, loc='lower right')\n",
    "\n",
    "plt.gcf().set_size_inches(15, 15)\n",
    "plt.show()"
   ]
  },
  {
   "cell_type": "markdown",
   "metadata": {},
   "source": [
    "## Question\n",
    "\n",
    "Based off the results of this experiment, is dropout performing regularization?  Explain your answer."
   ]
  },
  {
   "cell_type": "markdown",
   "metadata": {},
   "source": [
    "## Answer:\n"
   ]
  },
  {
   "cell_type": "markdown",
   "metadata": {},
   "source": [
    "## Final part of the assignment\n",
    "\n",
    "Get over 55% validation accuracy on CIFAR-10 by using the layers you have implemented.  You will be graded according to the following equation:\n",
    "\n",
    "min(floor((X - 32%)) / 23%, 1) \n",
    "where if you get 55% or higher validation accuracy, you get full points."
   ]
  },
  {
   "cell_type": "code",
   "execution_count": null,
   "metadata": {},
   "outputs": [],
   "source": [
    "# ================================================================ #\n",
    "# YOUR CODE HERE:\n",
    "#   Implement a FC-net that achieves at least 55% validation accuracy\n",
    "#   on CIFAR-10.\n",
    "# ================================================================ #\n",
    "\n",
    "\n",
    "# ================================================================ #\n",
    "# END YOUR CODE HERE\n",
    "# ================================================================ #\n"
   ]
  }
 ],
 "metadata": {
  "kernelspec": {
   "display_name": "Python 3 (ipykernel)",
   "language": "python",
   "name": "python3"
  },
  "language_info": {
   "codemirror_mode": {
    "name": "ipython",
    "version": 3
   },
   "file_extension": ".py",
   "mimetype": "text/x-python",
   "name": "python",
   "nbconvert_exporter": "python",
   "pygments_lexer": "ipython3",
   "version": "3.9.18"
  }
 },
 "nbformat": 4,
 "nbformat_minor": 4
}
