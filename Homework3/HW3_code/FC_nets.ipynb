{
 "cells": [
  {
   "cell_type": "markdown",
   "metadata": {},
   "source": [
    "# Fully connected networks\n",
    "\n",
    "In the previous notebook, you implemented a simple two-layer neural network class.  However, this class is not modular.  If you wanted to change the number of layers, you would need to write a new loss and gradient function.  If you wanted to optimize the network with different optimizers, you'd need to write new training functions.  If you wanted to incorporate regularizations, you'd have to modify the loss and gradient function.  \n",
    "\n",
    "Instead of having to modify functions each time, for the rest of the class, we'll work in a more modular framework where we define forward and backward layers that calculate losses and gradients respectively.  Since the forward and backward layers share intermediate values that are useful for calculating both the loss and the gradient, we'll also have these function return \"caches\" which store useful intermediate values.\n",
    "\n",
    "The goal is that through this modular design, we can build different sized neural networks for various applications.\n",
    "\n",
    "In this HW #3, we'll define the basic architecture, and in HW #4, we'll build on this framework to implement different optimizers and regularizations (like BatchNorm and Dropout).\n",
    "\n"
   ]
  },
  {
   "cell_type": "markdown",
   "metadata": {},
   "source": [
    "## Modular layers\n",
    "\n",
    "This notebook will build modular layers in the following manner.  First, there will be a forward pass for a given layer with inputs (`x`) and return the output of that layer (`out`) as well as cached variables (`cache`) that will be used to calculate the gradient in the backward pass.\n",
    "\n",
    "```python\n",
    "def layer_forward(x, w):\n",
    "  \"\"\" Receive inputs x and weights w \"\"\"\n",
    "  # Do some computations ...\n",
    "  z = # ... some intermediate value\n",
    "  # Do some more computations ...\n",
    "  out = # the output\n",
    "   \n",
    "  cache = (x, w, z, out) # Values we need to compute gradients\n",
    "   \n",
    "  return out, cache\n",
    "```\n",
    "\n",
    "The backward pass will receive upstream derivatives and the `cache` object, and will return gradients with respect to the inputs and weights, like this:\n",
    "\n",
    "```python\n",
    "def layer_backward(dout, cache):\n",
    "  \"\"\"\n",
    "  Receive derivative of loss with respect to outputs and cache,\n",
    "  and compute derivative with respect to inputs.\n",
    "  \"\"\"\n",
    "  # Unpack cache values\n",
    "  x, w, z, out = cache\n",
    "  \n",
    "  # Use values in cache to compute derivatives\n",
    "  dx = # Derivative of loss with respect to x\n",
    "  dw = # Derivative of loss with respect to w\n",
    "  \n",
    "  return dx, dw\n",
    "```"
   ]
  },
  {
   "cell_type": "code",
   "execution_count": 20,
   "metadata": {},
   "outputs": [
    {
     "name": "stdout",
     "output_type": "stream",
     "text": [
      "The autoreload extension is already loaded. To reload it, use:\n",
      "  %reload_ext autoreload\n"
     ]
    }
   ],
   "source": [
    "## Import and setups\n",
    "\n",
    "import time\n",
    "import numpy as np\n",
    "import matplotlib.pyplot as plt\n",
    "from nndl.fc_net import *\n",
    "from utils.data_utils import get_CIFAR10_data\n",
    "from utils.gradient_check import eval_numerical_gradient, eval_numerical_gradient_array\n",
    "from utils.solver import Solver\n",
    "\n",
    "%matplotlib inline\n",
    "plt.rcParams['figure.figsize'] = (10.0, 8.0) # set default size of plots\n",
    "plt.rcParams['image.interpolation'] = 'nearest'\n",
    "plt.rcParams['image.cmap'] = 'gray'\n",
    "\n",
    "# for auto-reloading external modules\n",
    "# see http://stackoverflow.com/questions/1907993/autoreload-of-modules-in-ipython\n",
    "%load_ext autoreload\n",
    "%autoreload 2\n",
    "\n",
    "def rel_error(x, y):\n",
    "  \"\"\" returns relative error \"\"\"\n",
    "  return np.max(np.abs(x - y) / (np.maximum(1e-8, np.abs(x) + np.abs(y))))"
   ]
  },
  {
   "cell_type": "code",
   "execution_count": 21,
   "metadata": {},
   "outputs": [
    {
     "name": "stdout",
     "output_type": "stream",
     "text": [
      "X_train: (49000, 3, 32, 32) \n",
      "y_train: (49000,) \n",
      "X_val: (1000, 3, 32, 32) \n",
      "y_val: (1000,) \n",
      "X_test: (1000, 3, 32, 32) \n",
      "y_test: (1000,) \n"
     ]
    }
   ],
   "source": [
    "# Load the (preprocessed) CIFAR10 data.\n",
    "# you may find an error here, this is may be because you forgot to use correct path in get_CIFAR10_data()\n",
    "data = get_CIFAR10_data()\n",
    "for k in data.keys():\n",
    "  print('{}: {} '.format(k, data[k].shape))"
   ]
  },
  {
   "cell_type": "markdown",
   "metadata": {},
   "source": [
    "## Linear layers\n",
    "\n",
    "In this section, we'll implement the forward and backward pass for the linear layers.\n",
    "\n",
    "The linear layer forward pass is the function `affine_forward` in `nndl/layers.py` and the backward pass is `affine_backward`.\n",
    "\n",
    "After you have implemented these, test your implementation by running the cell below."
   ]
  },
  {
   "cell_type": "markdown",
   "metadata": {},
   "source": [
    "### Affine layer forward pass\n",
    "\n",
    "Implement `affine_forward` and then test your code by running the following cell."
   ]
  },
  {
   "cell_type": "code",
   "execution_count": 22,
   "metadata": {},
   "outputs": [
    {
     "name": "stdout",
     "output_type": "stream",
     "text": [
      "Testing affine_forward function:\n",
      "difference: 9.769849468192957e-10\n"
     ]
    }
   ],
   "source": [
    "# Test the affine_forward function\n",
    "\n",
    "num_inputs = 2\n",
    "input_shape = (4, 5, 6)\n",
    "output_dim = 3\n",
    "\n",
    "input_size = num_inputs * np.prod(input_shape)\n",
    "weight_size = output_dim * np.prod(input_shape)\n",
    "\n",
    "x = np.linspace(-0.1, 0.5, num=input_size).reshape(num_inputs, *input_shape)\n",
    "w = np.linspace(-0.2, 0.3, num=weight_size).reshape(np.prod(input_shape), output_dim)\n",
    "b = np.linspace(-0.3, 0.1, num=output_dim)\n",
    "\n",
    "out, _ = affine_forward(x, w, b)\n",
    "correct_out = np.array([[ 1.49834967,  1.70660132,  1.91485297],\n",
    "                        [ 3.25553199,  3.5141327,   3.77273342]])\n",
    "\n",
    "# Compare your output with ours. The error should be around 1e-9.\n",
    "print('Testing affine_forward function:')\n",
    "print('difference: {}'.format(rel_error(out, correct_out)))"
   ]
  },
  {
   "cell_type": "markdown",
   "metadata": {},
   "source": [
    "### Affine layer backward pass\n",
    "\n",
    "Implement `affine_backward` and then test your code by running the following cell."
   ]
  },
  {
   "cell_type": "code",
   "execution_count": 23,
   "metadata": {},
   "outputs": [
    {
     "name": "stdout",
     "output_type": "stream",
     "text": [
      "Testing affine_backward function:\n",
      "dx error: 1.554353357560498e-10\n",
      "dw error: 2.3511429449233634e-09\n",
      "db error: 2.6764309756641935e-11\n"
     ]
    }
   ],
   "source": [
    "# Test the affine_backward function\n",
    "\n",
    "x = np.random.randn(10, 2, 3)\n",
    "w = np.random.randn(6, 5)\n",
    "b = np.random.randn(5)\n",
    "dout = np.random.randn(10, 5)\n",
    "\n",
    "dx_num = eval_numerical_gradient_array(lambda x: affine_forward(x, w, b)[0], x, dout)\n",
    "dw_num = eval_numerical_gradient_array(lambda w: affine_forward(x, w, b)[0], w, dout)\n",
    "db_num = eval_numerical_gradient_array(lambda b: affine_forward(x, w, b)[0], b, dout)\n",
    "\n",
    "_, cache = affine_forward(x, w, b)\n",
    "dx, dw, db = affine_backward(dout, cache)\n",
    "\n",
    "# The error should be around 1e-10\n",
    "print('Testing affine_backward function:')\n",
    "print('dx error: {}'.format(rel_error(dx_num, dx)))\n",
    "print('dw error: {}'.format(rel_error(dw_num, dw)))\n",
    "print('db error: {}'.format(rel_error(db_num, db)))\n",
    "\n"
   ]
  },
  {
   "cell_type": "markdown",
   "metadata": {},
   "source": [
    "## Activation layers\n",
    "\n",
    "In this section you'll implement the ReLU activation."
   ]
  },
  {
   "cell_type": "markdown",
   "metadata": {},
   "source": [
    "### ReLU forward pass\n",
    "\n",
    "Implement the `relu_forward` function in `nndl/layers.py` and then test your code by running the following cell."
   ]
  },
  {
   "cell_type": "code",
   "execution_count": 24,
   "metadata": {},
   "outputs": [
    {
     "name": "stdout",
     "output_type": "stream",
     "text": [
      "Testing relu_forward function:\n",
      "difference: 4.999999798022158e-08\n"
     ]
    }
   ],
   "source": [
    "# Test the relu_forward function\n",
    "\n",
    "x = np.linspace(-0.5, 0.5, num=12).reshape(3, 4)\n",
    "\n",
    "out, _ = relu_forward(x)\n",
    "correct_out = np.array([[ 0.,          0.,          0.,          0.,        ],\n",
    "                        [ 0.,          0.,          0.04545455,  0.13636364,],\n",
    "                        [ 0.22727273,  0.31818182,  0.40909091,  0.5,       ]])\n",
    "\n",
    "# Compare your output with ours. The error should be around 1e-8\n",
    "print('Testing relu_forward function:')\n",
    "print('difference: {}'.format(rel_error(out, correct_out)))"
   ]
  },
  {
   "cell_type": "markdown",
   "metadata": {},
   "source": [
    "### ReLU backward pass\n",
    "Implement the `relu_backward` function in `nndl/layers.py` and then test your code by running the following cell."
   ]
  },
  {
   "cell_type": "code",
   "execution_count": 25,
   "metadata": {},
   "outputs": [
    {
     "name": "stdout",
     "output_type": "stream",
     "text": [
      "Testing relu_backward function:\n",
      "dx error: 3.275621371969467e-12\n"
     ]
    }
   ],
   "source": [
    "x = np.random.randn(10, 10)\n",
    "dout = np.random.randn(*x.shape)\n",
    "\n",
    "dx_num = eval_numerical_gradient_array(lambda x: relu_forward(x)[0], x, dout)\n",
    "\n",
    "_, cache = relu_forward(x)\n",
    "dx = relu_backward(dout, cache)\n",
    "\n",
    "# The error should be around 1e-12\n",
    "print('Testing relu_backward function:')\n",
    "print('dx error: {}'.format(rel_error(dx_num, dx)))"
   ]
  },
  {
   "cell_type": "markdown",
   "metadata": {},
   "source": [
    "## Combining the affine and ReLU layers\n",
    "\n",
    "Often times, an affine layer will be followed by a ReLU layer. So let's make one that puts them together.  Layers that are combined are stored in `nndl/layer_utils.py`.  "
   ]
  },
  {
   "cell_type": "markdown",
   "metadata": {},
   "source": [
    "### Affine-ReLU layers\n",
    "We've implemented `affine_relu_forward()` and `affine_relu_backward` in ``nndl/layer_utils.py``.  Take a look at them to make sure you understand what's going on.  Then run the following cell to ensure its implemented correctly."
   ]
  },
  {
   "cell_type": "code",
   "execution_count": 26,
   "metadata": {},
   "outputs": [
    {
     "name": "stdout",
     "output_type": "stream",
     "text": [
      "Testing affine_relu_forward and affine_relu_backward:\n",
      "dx error: 6.615955056119943e-11\n",
      "dw error: 6.104731962774415e-09\n",
      "db error: 1.2376859507070784e-10\n"
     ]
    }
   ],
   "source": [
    "from nndl.layer_utils import affine_relu_forward, affine_relu_backward\n",
    "\n",
    "x = np.random.randn(2, 3, 4)\n",
    "w = np.random.randn(12, 10)\n",
    "b = np.random.randn(10)\n",
    "dout = np.random.randn(2, 10)\n",
    "\n",
    "out, cache = affine_relu_forward(x, w, b)\n",
    "dx, dw, db = affine_relu_backward(dout, cache)\n",
    "\n",
    "dx_num = eval_numerical_gradient_array(lambda x: affine_relu_forward(x, w, b)[0], x, dout)\n",
    "dw_num = eval_numerical_gradient_array(lambda w: affine_relu_forward(x, w, b)[0], w, dout)\n",
    "db_num = eval_numerical_gradient_array(lambda b: affine_relu_forward(x, w, b)[0], b, dout)\n",
    "\n",
    "print('Testing affine_relu_forward and affine_relu_backward:')\n",
    "print('dx error: {}'.format(rel_error(dx_num, dx)))\n",
    "print('dw error: {}'.format(rel_error(dw_num, dw)))\n",
    "print('db error: {}'.format(rel_error(db_num, db)))"
   ]
  },
  {
   "cell_type": "markdown",
   "metadata": {},
   "source": [
    "## Softmax loss\n",
    "\n",
    "You've already implemented it, so we have written it in `layers.py`.  The following code will ensure they are working correctly."
   ]
  },
  {
   "cell_type": "code",
   "execution_count": 27,
   "metadata": {},
   "outputs": [
    {
     "name": "stdout",
     "output_type": "stream",
     "text": [
      "\n",
      "Testing softmax_loss:\n",
      "loss: 2.3025509558316175\n",
      "dx error: 8.257249984553402e-09\n"
     ]
    }
   ],
   "source": [
    "num_classes, num_inputs = 10, 50\n",
    "x = 0.001 * np.random.randn(num_inputs, num_classes)\n",
    "y = np.random.randint(num_classes, size=num_inputs)\n",
    "\n",
    "\n",
    "\n",
    "dx_num = eval_numerical_gradient(lambda x: softmax_loss(x, y)[0], x, verbose=False)\n",
    "loss, dx = softmax_loss(x, y)\n",
    "\n",
    "# Test softmax_loss function. Loss should be 2.3 and dx error should be 1e-8\n",
    "print('\\nTesting softmax_loss:')\n",
    "print('loss: {}'.format(loss))\n",
    "print('dx error: {}'.format(rel_error(dx_num, dx)))"
   ]
  },
  {
   "cell_type": "markdown",
   "metadata": {},
   "source": [
    "## Implementation of a two-layer NN\n",
    "\n",
    "In `nndl/fc_net.py`, implement the class `TwoLayerNet` which uses the layers you made here.  When you have finished, the following cell will test your implementation."
   ]
  },
  {
   "cell_type": "code",
   "execution_count": 28,
   "metadata": {},
   "outputs": [
    {
     "name": "stdout",
     "output_type": "stream",
     "text": [
      "Testing initialization ... \n",
      "Testing test-time forward pass ... \n",
      "Testing training loss (no regularization)\n",
      "Running numeric gradient check with reg = 0.0\n",
      "W1 relative error: 1.8336562786695002e-08\n",
      "W2 relative error: 3.201560569143183e-10\n",
      "b1 relative error: 9.828315204644842e-09\n",
      "b2 relative error: 4.329134954569865e-10\n",
      "Running numeric gradient check with reg = 0.7\n",
      "W1 relative error: 2.5279152310200606e-07\n",
      "W2 relative error: 7.976652806155026e-08\n",
      "b1 relative error: 1.564679947504764e-08\n",
      "b2 relative error: 9.089617896905665e-10\n"
     ]
    }
   ],
   "source": [
    "N, D, H, C = 3, 5, 50, 7\n",
    "X = np.random.randn(N, D)\n",
    "y = np.random.randint(C, size=N)\n",
    "\n",
    "std = 1e-2\n",
    "model = TwoLayerNet(input_dim=D, hidden_dims=H, num_classes=C, weight_scale=std)\n",
    "\n",
    "print('Testing initialization ... ')\n",
    "W1_std = abs(model.params['W1'].std() - std)\n",
    "b1 = model.params['b1']\n",
    "W2_std = abs(model.params['W2'].std() - std)\n",
    "b2 = model.params['b2']\n",
    "assert W1_std < std / 10, 'First layer weights do not seem right'\n",
    "assert np.all(b1 == 0), 'First layer biases do not seem right'\n",
    "assert W2_std < std / 10, 'Second layer weights do not seem right'\n",
    "assert np.all(b2 == 0), 'Second layer biases do not seem right'\n",
    "\n",
    "print('Testing test-time forward pass ... ')\n",
    "model.params['W1'] = np.linspace(-0.7, 0.3, num=D*H).reshape(D, H)\n",
    "model.params['b1'] = np.linspace(-0.1, 0.9, num=H)\n",
    "model.params['W2'] = np.linspace(-0.3, 0.4, num=H*C).reshape(H, C)\n",
    "model.params['b2'] = np.linspace(-0.9, 0.1, num=C)\n",
    "X = np.linspace(-5.5, 4.5, num=N*D).reshape(D, N).T\n",
    "scores = model.loss(X)\n",
    "correct_scores = np.asarray(\n",
    "  [[11.53165108,  12.2917344,   13.05181771,  13.81190102,  14.57198434, 15.33206765,  16.09215096],\n",
    "   [12.05769098,  12.74614105,  13.43459113,  14.1230412,   14.81149128, 15.49994135,  16.18839143],\n",
    "   [12.58373087,  13.20054771,  13.81736455,  14.43418138,  15.05099822, 15.66781506,  16.2846319 ]])\n",
    "scores_diff = np.abs(scores - correct_scores).sum()\n",
    "assert scores_diff < 1e-6, 'Problem with test-time forward pass'\n",
    "\n",
    "print('Testing training loss (no regularization)')\n",
    "y = np.asarray([0, 5, 1])\n",
    "loss, grads = model.loss(X, y)\n",
    "correct_loss = 3.4702243556\n",
    "assert abs(loss - correct_loss) < 1e-10, 'Problem with training-time loss'\n",
    "\n",
    "model.reg = 1.0\n",
    "loss, grads = model.loss(X, y)\n",
    "correct_loss = 26.5948426952\n",
    "assert abs(loss - correct_loss) < 1e-10, 'Problem with regularization loss'\n",
    "\n",
    "for reg in [0.0, 0.7]:\n",
    "  print('Running numeric gradient check with reg = {}'.format(reg))\n",
    "  model.reg = reg\n",
    "  loss, grads = model.loss(X, y)\n",
    "\n",
    "  for name in sorted(grads):\n",
    "    f = lambda _: model.loss(X, y)[0]\n",
    "    grad_num = eval_numerical_gradient(f, model.params[name], verbose=False)\n",
    "    print('{} relative error: {}'.format(name, rel_error(grad_num, grads[name])))"
   ]
  },
  {
   "cell_type": "markdown",
   "metadata": {},
   "source": [
    "## Solver \n",
    "\n",
    "We will now use the utils Solver class to train these networks.  Familiarize yourself with the API in `utils/solver.py`.  After you have done so, declare an instance of a TwoLayerNet with 200 units and then train it with the Solver.  Choose parameters so that your validation accuracy is at least 50%."
   ]
  },
  {
   "cell_type": "code",
   "execution_count": 29,
   "metadata": {
    "scrolled": false
   },
   "outputs": [
    {
     "name": "stdout",
     "output_type": "stream",
     "text": [
      "(Iteration 1 / 7350) loss: 2.298564\n",
      "(Epoch 0 / 15) train acc: 0.142000; val_acc: 0.156000\n",
      "(Iteration 101 / 7350) loss: 1.858356\n",
      "(Iteration 201 / 7350) loss: 1.817273\n",
      "(Iteration 301 / 7350) loss: 1.685811\n",
      "(Iteration 401 / 7350) loss: 1.421284\n",
      "(Epoch 1 / 15) train acc: 0.417000; val_acc: 0.452000\n",
      "(Iteration 501 / 7350) loss: 1.597581\n",
      "(Iteration 601 / 7350) loss: 1.572142\n",
      "(Iteration 701 / 7350) loss: 1.475473\n",
      "(Iteration 801 / 7350) loss: 1.498437\n",
      "(Iteration 901 / 7350) loss: 1.397053\n",
      "(Epoch 2 / 15) train acc: 0.510000; val_acc: 0.489000\n",
      "(Iteration 1001 / 7350) loss: 1.551160\n",
      "(Iteration 1101 / 7350) loss: 1.445567\n",
      "(Iteration 1201 / 7350) loss: 1.408582\n",
      "(Iteration 1301 / 7350) loss: 1.432239\n",
      "(Iteration 1401 / 7350) loss: 1.340010\n",
      "(Epoch 3 / 15) train acc: 0.548000; val_acc: 0.503000\n",
      "(Iteration 1501 / 7350) loss: 1.246971\n",
      "(Iteration 1601 / 7350) loss: 1.353292\n",
      "(Iteration 1701 / 7350) loss: 1.483650\n",
      "(Iteration 1801 / 7350) loss: 1.327398\n",
      "(Iteration 1901 / 7350) loss: 1.290622\n",
      "(Epoch 4 / 15) train acc: 0.538000; val_acc: 0.494000\n",
      "(Iteration 2001 / 7350) loss: 1.245361\n",
      "(Iteration 2101 / 7350) loss: 1.430901\n",
      "(Iteration 2201 / 7350) loss: 1.360906\n",
      "(Iteration 2301 / 7350) loss: 1.431490\n",
      "(Iteration 2401 / 7350) loss: 1.398528\n",
      "(Epoch 5 / 15) train acc: 0.539000; val_acc: 0.514000\n",
      "(Iteration 2501 / 7350) loss: 1.287843\n",
      "(Iteration 2601 / 7350) loss: 1.131582\n",
      "(Iteration 2701 / 7350) loss: 1.284818\n",
      "(Iteration 2801 / 7350) loss: 1.215222\n",
      "(Iteration 2901 / 7350) loss: 1.368394\n",
      "(Epoch 6 / 15) train acc: 0.568000; val_acc: 0.498000\n",
      "(Iteration 3001 / 7350) loss: 0.992158\n",
      "(Iteration 3101 / 7350) loss: 1.145389\n",
      "(Iteration 3201 / 7350) loss: 1.314393\n",
      "(Iteration 3301 / 7350) loss: 1.081020\n",
      "(Iteration 3401 / 7350) loss: 1.329748\n",
      "(Epoch 7 / 15) train acc: 0.577000; val_acc: 0.483000\n",
      "(Iteration 3501 / 7350) loss: 1.109539\n",
      "(Iteration 3601 / 7350) loss: 1.061484\n",
      "(Iteration 3701 / 7350) loss: 1.244280\n",
      "(Iteration 3801 / 7350) loss: 1.166834\n",
      "(Iteration 3901 / 7350) loss: 1.199950\n",
      "(Epoch 8 / 15) train acc: 0.584000; val_acc: 0.505000\n",
      "(Iteration 4001 / 7350) loss: 1.344948\n",
      "(Iteration 4101 / 7350) loss: 1.057932\n",
      "(Iteration 4201 / 7350) loss: 0.982783\n",
      "(Iteration 4301 / 7350) loss: 1.169271\n",
      "(Iteration 4401 / 7350) loss: 1.075300\n",
      "(Epoch 9 / 15) train acc: 0.627000; val_acc: 0.495000\n",
      "(Iteration 4501 / 7350) loss: 1.123154\n",
      "(Iteration 4601 / 7350) loss: 1.277694\n",
      "(Iteration 4701 / 7350) loss: 1.065818\n",
      "(Iteration 4801 / 7350) loss: 1.106089\n",
      "(Epoch 10 / 15) train acc: 0.604000; val_acc: 0.507000\n",
      "(Iteration 4901 / 7350) loss: 1.106192\n",
      "(Iteration 5001 / 7350) loss: 1.267657\n",
      "(Iteration 5101 / 7350) loss: 0.986157\n",
      "(Iteration 5201 / 7350) loss: 1.134579\n",
      "(Iteration 5301 / 7350) loss: 1.405458\n",
      "(Epoch 11 / 15) train acc: 0.620000; val_acc: 0.523000\n",
      "(Iteration 5401 / 7350) loss: 1.359432\n",
      "(Iteration 5501 / 7350) loss: 1.163835\n",
      "(Iteration 5601 / 7350) loss: 0.932364\n",
      "(Iteration 5701 / 7350) loss: 1.126674\n",
      "(Iteration 5801 / 7350) loss: 1.192106\n",
      "(Epoch 12 / 15) train acc: 0.624000; val_acc: 0.508000\n",
      "(Iteration 5901 / 7350) loss: 1.042706\n",
      "(Iteration 6001 / 7350) loss: 0.969401\n",
      "(Iteration 6101 / 7350) loss: 1.028092\n",
      "(Iteration 6201 / 7350) loss: 1.022832\n",
      "(Iteration 6301 / 7350) loss: 1.401650\n",
      "(Epoch 13 / 15) train acc: 0.626000; val_acc: 0.529000\n",
      "(Iteration 6401 / 7350) loss: 1.043180\n",
      "(Iteration 6501 / 7350) loss: 0.769892\n",
      "(Iteration 6601 / 7350) loss: 0.982982\n",
      "(Iteration 6701 / 7350) loss: 0.992465\n",
      "(Iteration 6801 / 7350) loss: 0.927957\n",
      "(Epoch 14 / 15) train acc: 0.639000; val_acc: 0.516000\n",
      "(Iteration 6901 / 7350) loss: 0.953537\n",
      "(Iteration 7001 / 7350) loss: 1.171512\n",
      "(Iteration 7101 / 7350) loss: 0.979305\n",
      "(Iteration 7201 / 7350) loss: 1.272414\n",
      "(Iteration 7301 / 7350) loss: 0.901373\n",
      "(Epoch 15 / 15) train acc: 0.666000; val_acc: 0.521000\n"
     ]
    }
   ],
   "source": [
    "model = TwoLayerNet()\n",
    "solver = None\n",
    "\n",
    "# ================================================================ #\n",
    "# YOUR CODE HERE:\n",
    "#   Declare an instance of a TwoLayerNet and then train \n",
    "#   it with the Solver. Choose hyperparameters so that your validation \n",
    "#   accuracy is at least 50%.  We won't have you optimize this further\n",
    "#   since you did it in the previous notebook.\n",
    "#\n",
    "# ================================================================ #\n",
    "\"\"\"\n",
    "model as TwoLayerNet()\n",
    "data as CIFAR-10 data\n",
    "\"\"\"\n",
    "\n",
    "solver = Solver(model, data,\n",
    "                update_rule='sgd',\n",
    "                optim_config={\n",
    "                  'learning_rate': 1e-3,\n",
    "                },\n",
    "                lr_decay=0.95,\n",
    "                num_epochs=15, batch_size=100,\n",
    "                print_every=100)\n",
    "\n",
    "solver.train()\n",
    "\n",
    "# ================================================================ #\n",
    "# END YOUR CODE HERE\n",
    "# ================================================================ #"
   ]
  },
  {
   "cell_type": "code",
   "execution_count": 30,
   "metadata": {},
   "outputs": [
    {
     "data": {
      "image/png": "[encoded data removed]",
      "text/plain": [
       "<Figure size 1080x864 with 2 Axes>"
      ]
     },
     "metadata": {
      "needs_background": "light"
     },
     "output_type": "display_data"
    }
   ],
   "source": [
    "# Run this cell to visualize training loss and train / val accuracy\n",
    "\n",
    "plt.subplot(2, 1, 1)\n",
    "plt.title('Training loss')\n",
    "plt.plot(solver.loss_history, '-')\n",
    "plt.xlabel('Iteration')\n",
    "\n",
    "plt.subplot(2, 1, 2)\n",
    "plt.title('Accuracy')\n",
    "plt.plot(solver.train_acc_history, '-o', label='train')\n",
    "plt.plot(solver.val_acc_history, '-o', label='val')\n",
    "plt.plot([0.5] * len(solver.val_acc_history), 'k--')\n",
    "plt.xlabel('Epoch')\n",
    "plt.legend(loc='lower right')\n",
    "plt.gcf().set_size_inches(15, 12)\n",
    "plt.show()"
   ]
  },
  {
   "cell_type": "markdown",
   "metadata": {},
   "source": [
    "## Multilayer Neural Network\n",
    "\n",
    "Now, we implement a multi-layer neural network.\n",
    "\n",
    "Read through the `FullyConnectedNet` class in the file `nndl/fc_net.py`.\n",
    "\n",
    "Implement the initialization, the forward pass, and the backward pass.  There will be lines for batchnorm and dropout layers and caches; ignore these all for now.  That'll be in HW #4."
   ]
  },
  {
   "cell_type": "code",
   "execution_count": 36,
   "metadata": {
    "scrolled": true
   },
   "outputs": [
    {
     "name": "stdout",
     "output_type": "stream",
     "text": [
      "Running check with reg = 0\n",
      "Initial loss: 2.3033682473448396\n",
      "W1 relative error: 8.101915100584249e-07\n",
      "W2 relative error: 8.994324030155071e-07\n",
      "W3 relative error: 3.907310666524492e-07\n",
      "b1 relative error: 2.5729337488534124e-07\n",
      "b2 relative error: 1.2817524795895165e-09\n",
      "b3 relative error: 1.3733992957550199e-10\n",
      "Running check with reg = 3.14\n",
      "Initial loss: 7.1787664422529005\n",
      "W1 relative error: 1.0041290373018651e-08\n",
      "W2 relative error: 5.936333665923039e-08\n",
      "W3 relative error: 3.752034433265848e-08\n",
      "b1 relative error: 7.248406624655567e-09\n",
      "b2 relative error: 1.1011066930384422e-08\n",
      "b3 relative error: 1.8355020685404189e-10\n"
     ]
    }
   ],
   "source": [
    "N, D, H1, H2, C = 2, 15, 20, 30, 10\n",
    "X = np.random.randn(N, D)\n",
    "y = np.random.randint(C, size=(N,))\n",
    "\n",
    "for reg in [0, 3.14]:\n",
    "  print('Running check with reg = {}'.format(reg))\n",
    "  model = FullyConnectedNet([H1, H2], input_dim=D, num_classes=C,\n",
    "                            reg=reg, weight_scale=5e-2, dtype=np.float64)\n",
    "\n",
    "  loss, grads = model.loss(X, y)\n",
    "  print('Initial loss: {}'.format(loss))\n",
    "\n",
    "  for name in sorted(grads):\n",
    "    f = lambda _: model.loss(X, y)[0]\n",
    "    grad_num = eval_numerical_gradient(f, model.params[name], verbose=False, h=1e-5)\n",
    "    print('{} relative error: {}'.format(name, rel_error(grad_num, grads[name])))"
   ]
  },
  {
   "cell_type": "code",
   "execution_count": 43,
   "metadata": {},
   "outputs": [
    {
     "name": "stdout",
     "output_type": "stream",
     "text": [
      "(Iteration 1 / 50) loss: 2.993091\n",
      "(Epoch 1 / 50) train acc: 0.300000; val_acc: 0.149000\n",
      "(Epoch 2 / 50) train acc: 0.380000; val_acc: 0.099000\n",
      "(Epoch 3 / 50) train acc: 0.700000; val_acc: 0.160000\n",
      "(Epoch 4 / 50) train acc: 0.660000; val_acc: 0.146000\n",
      "(Epoch 5 / 50) train acc: 0.760000; val_acc: 0.167000\n",
      "(Epoch 6 / 50) train acc: 0.840000; val_acc: 0.170000\n",
      "(Epoch 7 / 50) train acc: 0.860000; val_acc: 0.177000\n",
      "(Epoch 8 / 50) train acc: 0.940000; val_acc: 0.161000\n",
      "(Epoch 9 / 50) train acc: 0.940000; val_acc: 0.165000\n",
      "(Epoch 10 / 50) train acc: 0.980000; val_acc: 0.159000\n",
      "(Iteration 11 / 50) loss: 0.380591\n",
      "(Epoch 11 / 50) train acc: 0.980000; val_acc: 0.163000\n",
      "(Epoch 12 / 50) train acc: 0.980000; val_acc: 0.169000\n",
      "(Epoch 13 / 50) train acc: 0.980000; val_acc: 0.172000\n",
      "(Epoch 14 / 50) train acc: 0.980000; val_acc: 0.178000\n",
      "(Epoch 15 / 50) train acc: 0.980000; val_acc: 0.166000\n",
      "(Epoch 16 / 50) train acc: 1.000000; val_acc: 0.161000\n",
      "(Epoch 17 / 50) train acc: 0.980000; val_acc: 0.167000\n",
      "(Epoch 18 / 50) train acc: 1.000000; val_acc: 0.162000\n",
      "(Epoch 19 / 50) train acc: 1.000000; val_acc: 0.174000\n",
      "(Epoch 20 / 50) train acc: 1.000000; val_acc: 0.169000\n",
      "(Iteration 21 / 50) loss: 0.141857\n",
      "(Epoch 21 / 50) train acc: 1.000000; val_acc: 0.168000\n",
      "(Epoch 22 / 50) train acc: 1.000000; val_acc: 0.169000\n",
      "(Epoch 23 / 50) train acc: 1.000000; val_acc: 0.165000\n",
      "(Epoch 24 / 50) train acc: 1.000000; val_acc: 0.165000\n",
      "(Epoch 25 / 50) train acc: 1.000000; val_acc: 0.171000\n",
      "(Epoch 26 / 50) train acc: 1.000000; val_acc: 0.168000\n",
      "(Epoch 27 / 50) train acc: 1.000000; val_acc: 0.165000\n",
      "(Epoch 28 / 50) train acc: 1.000000; val_acc: 0.171000\n",
      "(Epoch 29 / 50) train acc: 1.000000; val_acc: 0.177000\n",
      "(Epoch 30 / 50) train acc: 1.000000; val_acc: 0.166000\n",
      "(Iteration 31 / 50) loss: 0.054953\n",
      "(Epoch 31 / 50) train acc: 1.000000; val_acc: 0.163000\n",
      "(Epoch 32 / 50) train acc: 1.000000; val_acc: 0.165000\n",
      "(Epoch 33 / 50) train acc: 1.000000; val_acc: 0.164000\n",
      "(Epoch 34 / 50) train acc: 1.000000; val_acc: 0.165000\n",
      "(Epoch 35 / 50) train acc: 1.000000; val_acc: 0.163000\n",
      "(Epoch 36 / 50) train acc: 1.000000; val_acc: 0.165000\n",
      "(Epoch 37 / 50) train acc: 1.000000; val_acc: 0.164000\n",
      "(Epoch 38 / 50) train acc: 1.000000; val_acc: 0.165000\n",
      "(Epoch 39 / 50) train acc: 1.000000; val_acc: 0.171000\n",
      "(Epoch 40 / 50) train acc: 1.000000; val_acc: 0.171000\n",
      "(Iteration 41 / 50) loss: 0.037822\n",
      "(Epoch 41 / 50) train acc: 1.000000; val_acc: 0.168000\n",
      "(Epoch 42 / 50) train acc: 1.000000; val_acc: 0.168000\n",
      "(Epoch 43 / 50) train acc: 1.000000; val_acc: 0.171000\n",
      "(Epoch 44 / 50) train acc: 1.000000; val_acc: 0.172000\n",
      "(Epoch 45 / 50) train acc: 1.000000; val_acc: 0.171000\n",
      "(Epoch 46 / 50) train acc: 1.000000; val_acc: 0.168000\n",
      "(Epoch 47 / 50) train acc: 1.000000; val_acc: 0.168000\n",
      "(Epoch 48 / 50) train acc: 1.000000; val_acc: 0.169000\n",
      "(Epoch 49 / 50) train acc: 1.000000; val_acc: 0.168000\n",
      "(Epoch 50 / 50) train acc: 1.000000; val_acc: 0.169000\n"
     ]
    },
    {
     "data": {
      "image/png": "[encoded data removed]",
      "text/plain": [
       "<Figure size 720x576 with 1 Axes>"
      ]
     },
     "metadata": {
      "needs_background": "light"
     },
     "output_type": "display_data"
    }
   ],
   "source": [
    "# Use the three layer neural network to overfit a small dataset.\n",
    "\n",
    "num_train = 50\n",
    "small_data = {\n",
    "  'X_train': data['X_train'][:num_train],\n",
    "  'y_train': data['y_train'][:num_train],\n",
    "  'X_val': data['X_val'],\n",
    "  'y_val': data['y_val'],\n",
    "}\n",
    "\n",
    "\n",
    "#### !!!!!!\n",
    "# Play around with the weight_scale and learning_rate so that you can overfit a small dataset.\n",
    "# Your training accuracy should be 1.0 to receive full credit on this part.\n",
    "weight_scale = 2e-2\n",
    "learning_rate = 4e-3\n",
    "\n",
    "model = FullyConnectedNet([100, 100],\n",
    "              weight_scale=weight_scale, dtype=np.float64)\n",
    "solver = Solver(model, small_data,\n",
    "                print_every=10, num_epochs=50, batch_size=50,\n",
    "                update_rule='sgd',\n",
    "                optim_config={\n",
    "                  'learning_rate': learning_rate,\n",
    "                }\n",
    "         )\n",
    "solver.train()\n",
    "\n",
    "plt.plot(solver.loss_history, '-')\n",
    "plt.title('Training loss history')\n",
    "plt.xlabel('Iteration')\n",
    "plt.ylabel('Training loss')\n",
    "plt.show()"
   ]
  },
  {
   "cell_type": "code",
   "execution_count": null,
   "metadata": {},
   "outputs": [],
   "source": []
  }
 ],
 "metadata": {
  "kernelspec": {
   "display_name": "Python 3 (ipykernel)",
   "language": "python",
   "name": "python3"
  },
  "language_info": {
   "codemirror_mode": {
    "name": "ipython",
    "version": 3
   },
   "file_extension": ".py",
   "mimetype": "text/x-python",
   "name": "python",
   "nbconvert_exporter": "python",
   "pygments_lexer": "ipython3",
   "version": "3.9.18"
  },
  "varInspector": {
   "cols": {
    "lenName": 16,
    "lenType": 16,
    "lenVar": 40
   },
   "kernels_config": {
    "python": {
     "delete_cmd_postfix": "",
     "delete_cmd_prefix": "del ",
     "library": "var_list.py",
     "varRefreshCmd": "print(var_dic_list())"
    },
    "r": {
     "delete_cmd_postfix": ") ",
     "delete_cmd_prefix": "rm(",
     "library": "var_list.r",
     "varRefreshCmd": "cat(var_dic_list()) "
    }
   },
   "types_to_exclude": [
    "module",
    "function",
    "builtin_function_or_method",
    "instance",
    "_Feature"
   ],
   "window_display": true
  }
 },
 "nbformat": 4,
 "nbformat_minor": 2
}
